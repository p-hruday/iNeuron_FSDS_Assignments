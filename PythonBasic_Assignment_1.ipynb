{
 "cells": [
  {
   "cell_type": "markdown",
   "id": "f46f676c",
   "metadata": {},
   "source": [
    "# Python Basic Assignment 1"
   ]
  },
  {
   "cell_type": "markdown",
   "id": "35889fea",
   "metadata": {},
   "source": [
    "1. \n",
    "In the below elements which of them are values or an expression? eg:- values can be\n",
    "integer or string and expressions will be mathematical operators.\n",
    "\n",
    "Ans.\n",
    "\n",
    "* : expression\n",
    "hello : value\n",
    "-87.8 : value\n",
    "- : expression\n",
    "/ : expression\n",
    "+ : expression\n",
    "6 : value"
   ]
  },
  {
   "cell_type": "markdown",
   "id": "318a47da",
   "metadata": {},
   "source": [
    "2. \n",
    "What is the difference between string and variable?\n",
    "\n",
    "Ans.\n",
    "\n",
    "Variables can be considered as symbols which contain storage, or like an empty box that represents different types of data. \n",
    "It is created when we assign a value to it, and used in the program.\n",
    "\n",
    "String is one of the data type in python, which is a sequence of characters enclosed in quotes.\n",
    "They can be stored in a variable.\n"
   ]
  },
  {
   "cell_type": "markdown",
   "id": "5d33b416",
   "metadata": {},
   "source": [
    "3. \n",
    "Describe three different data types.\n",
    "\n",
    "Ans.\n",
    "\n",
    "String:\n",
    "The data type String, is a sequence of characters enclosed in quotes, and can be stored in a variable using the assignment operator. \n",
    "They are immutable, meaning the charactres of the string cannot be changed.\n",
    "Strings can be enclosed by single, double or triple quotes, accroding to our requirement.\n",
    "\n",
    "List:\n",
    "List is a data type which can store multiple data, seperated by commas (,) and enclosed with square brackets ([ ]), the values stored can be of different data types, and can also contain duplicate values.\n",
    "We can access the elements of the lists using indexes and slicing, using both positive and negative indexes. Lists are mutable. meaning they are changeable.\n",
    "\n",
    "Set:\n",
    "Set is a kind of data type which is a collection of unique data, as it will not hold duplicate values. Seperated by commas (,) and enclosed with curly brackets ({ }). Sets are mutable but they do not hold any index, as they are unordered in nature.\n",
    "Mathematical set operations like union, intersection, subtraction, and symmetric difference can be performed."
   ]
  },
  {
   "cell_type": "markdown",
   "id": "46664261",
   "metadata": {},
   "source": [
    "4. \n",
    "What is an expression made up of? What do all expressions do?\n",
    "\n",
    "Ans.\n",
    "\n",
    "An Expression is considered to be a combination of operands and operators. \n",
    "And expressions are evaluated as per the order of operators and interpreted to produce a result.\n"
   ]
  },
  {
   "cell_type": "markdown",
   "id": "4c6361cb",
   "metadata": {},
   "source": [
    "5. \n",
    "This assignment statements, like spam = 10. What is the difference between an\n",
    "expression and a statement?\n",
    "\n",
    "Ans.\n",
    "\n",
    "Expression is a combination of variable, operators and values, which is evaluated to produce results. Where as a Statement is considered to be a line of code that performs some action. As a part of their syntax they can contain expressions as well.\n"
   ]
  },
  {
   "cell_type": "markdown",
   "id": "5f9ecd66",
   "metadata": {},
   "source": [
    "6. \n",
    "After running the following code, what does the variable bacon contain?\n",
    "bacon = 22\n",
    "bacon + 1\n",
    "\n",
    "Ans.\n",
    "\n",
    "The variable Bacon will contain 22, as though bacon is added by 1 it is not reassigned to the variable."
   ]
  },
  {
   "cell_type": "markdown",
   "id": "b7ac56ae",
   "metadata": {},
   "source": [
    "7. \n",
    "What should the values of the following two terms be?\n",
    "'spam' + 'spamspam'\n",
    "'spam' * 3\n",
    "\n",
    "Ans.\n",
    "\n",
    "spamspamspam\n",
    "spamspamspam\n"
   ]
  },
  {
   "cell_type": "markdown",
   "id": "5a6c4751",
   "metadata": {},
   "source": [
    "8. \n",
    "Why is eggs a valid variable name while 100 is invalid?\n",
    "\n",
    "Ans.\n",
    "\n",
    "Though variables can be alpha numeric, it must not start with a number."
   ]
  },
  {
   "cell_type": "markdown",
   "id": "1eb32f8b",
   "metadata": {},
   "source": [
    "9. \n",
    "What three functions can be used to get the integer, floating-point number, or string\n",
    "version of a value?\n",
    "\n",
    "Ans.\n",
    "\n",
    "int(value) : Integer version of the value\n",
    "float(value) : Floating point version of the value\n",
    "str(value) : String version of the value"
   ]
  },
  {
   "cell_type": "markdown",
   "id": "1bd43af4",
   "metadata": {},
   "source": [
    "10. \n",
    "Why does this expression cause an error? How can you fix it?\n",
    "'I have eaten ' + 99 + ' burritos.'\n",
    "\n",
    "Ans.\n",
    "\n",
    "The error cause by the expression, is a concatination error, As we are trying to concatenate a string and an integer.\n",
    "In order to fix it, We must convert the integer value to string, either by enclosing it in quotes or str() function.\n",
    "such as,\n",
    "'I have eaten ' + '99' + ' burritos.'\n",
    "'I have eaten ' + str(99) + ' burritos.'"
   ]
  }
 ],
 "metadata": {
  "kernelspec": {
   "display_name": "Python 3 (ipykernel)",
   "language": "python",
   "name": "python3"
  },
  "language_info": {
   "codemirror_mode": {
    "name": "ipython",
    "version": 3
   },
   "file_extension": ".py",
   "mimetype": "text/x-python",
   "name": "python",
   "nbconvert_exporter": "python",
   "pygments_lexer": "ipython3",
   "version": "3.11.3"
  }
 },
 "nbformat": 4,
 "nbformat_minor": 5
}
