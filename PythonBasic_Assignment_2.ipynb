{
 "cells": [
  {
   "cell_type": "markdown",
   "id": "b2c03c05",
   "metadata": {},
   "source": [
    "# Python Basic Assignment 2"
   ]
  },
  {
   "cell_type": "code",
   "execution_count": null,
   "id": "4ac92195",
   "metadata": {},
   "outputs": [],
   "source": [
    "1.\n",
    "What are the two values of the Boolean data type? How do you write them?\n",
    "\n",
    "Ans.\n",
    "The two values of Boolean data type are True and False.\n",
    "They are to be written with the first letter capitalized.\n"
   ]
  },
  {
   "cell_type": "code",
   "execution_count": null,
   "id": "8ff957b7",
   "metadata": {},
   "outputs": [],
   "source": [
    "2.  \n",
    "What are the three different types of Boolean operators?\n",
    "\n",
    "Ans.\n",
    "The three different types of Boolean operators are,\n",
    "and, or, not ."
   ]
  },
  {
   "cell_type": "code",
   "execution_count": null,
   "id": "a2a63452",
   "metadata": {},
   "outputs": [],
   "source": [
    "3.\n",
    "Make list of each Boolean operator's truth tables (i.e. every possible combination of Boolean values for the operator and what it evaluate).\n",
    "\n",
    "Ans.\n",
    "Truth table of \"and\" operator:\n",
    "True and True : True\n",
    "True and False : False\n",
    "False and True : False\n",
    "False and False : False\n",
    "\n",
    "Truth table of \"or\" operator:\n",
    "True or True : True\n",
    "True or False : True\n",
    "False or True : True\n",
    "False or False : False\n",
    "\n",
    "Truth table of \"not\" operator:\n",
    "not True : False\n",
    "not False : True"
   ]
  },
  {
   "cell_type": "code",
   "execution_count": null,
   "id": "8a1f0bef",
   "metadata": {},
   "outputs": [],
   "source": [
    "4.\n",
    "What are the values of the following expressions?\n",
    "\n",
    "Ans.\n",
    "(5 > 4) and (3 == 5) : False\n",
    "not (5 > 4) : False\n",
    "(5 > 4) or (3 == 5) : True\n",
    "not ((5 > 4) or (3 == 5)) : False\n",
    "(True and True) and (True == False) : False\n",
    "(not False) or (not True) : True\n"
   ]
  },
  {
   "cell_type": "code",
   "execution_count": null,
   "id": "cd2bfeaa",
   "metadata": {},
   "outputs": [],
   "source": [
    "5. \n",
    "What are the six comparison operators?\n",
    "\n",
    "Ans.\n",
    "The six comparision operators are,\n",
    "< : Less than\n",
    "> : Greater than\n",
    "<= : Less than or equal to \n",
    ">= : Greater than or equal to\n",
    "!= : Not equal to \n",
    "== : Equal to "
   ]
  },
  {
   "cell_type": "code",
   "execution_count": null,
   "id": "b5453a42",
   "metadata": {},
   "outputs": [],
   "source": [
    "6. \n",
    "How do you tell the difference between the equal to and assignment operators?Describe a\n",
    "condition and when you would use one.\n",
    "\n",
    "Ans.\n",
    "Assignment operator is used to assign something to a variable, and it is of a single equal sign (=)\n",
    "Equal to is used to compare two value, and it is of two equal signs (==)\n",
    "\n",
    "#Here the values 10 and 20 are being assigned to a and b using the assignment operator (=)\n",
    "a=10\n",
    "b=20 \n",
    "\n",
    "#Here using the equal to operator (==) the two values are being compared returning a boolean value\n",
    "a==b #Here it returns False"
   ]
  },
  {
   "cell_type": "code",
   "execution_count": null,
   "id": "8bf2823c",
   "metadata": {},
   "outputs": [],
   "source": [
    "7.\n",
    "Identify the three blocks in this code:\n",
    "spam = 0\n",
    "if spam == 10:\n",
    "print('eggs')\n",
    "if spam > 5:\n",
    "print('bacon')\n",
    "else:\n",
    "print('ham')\n",
    "print('spam')\n",
    "print('spam')\n",
    "\n",
    "Ans.\n",
    "The three blocks in the code are,\n",
    "if, if, else\n",
    "Upon indetation, the blocks can be understood clearly, such as,\n",
    "\n",
    "spam = 0\n",
    "if spam == 10:\n",
    "    print('eggs')\n",
    "if spam > 5:\n",
    "    print('bacon')\n",
    "else:\n",
    "    print('ham')\n",
    "    print('spam')\n",
    "    print('spam')\n"
   ]
  },
  {
   "cell_type": "code",
   "execution_count": null,
   "id": "16c22488",
   "metadata": {},
   "outputs": [],
   "source": [
    "8. \n",
    "Write code that prints Hello if 1 is stored in spam, prints Howdy if 2 is stored in spam, and prints\n",
    "Greetings! if anything else is stored in spam."
   ]
  },
  {
   "cell_type": "code",
   "execution_count": 19,
   "id": "01b0ced0",
   "metadata": {},
   "outputs": [
    {
     "name": "stdout",
     "output_type": "stream",
     "text": [
      "Hi\n",
      "Greetings!\n"
     ]
    }
   ],
   "source": [
    "#Ans.\n",
    "spam=input()\n",
    "if spam==\"1\":\n",
    "    print(\"Hello\")\n",
    "elif spam==\"2\":\n",
    "    print(\"Howdy\")\n",
    "else:\n",
    "    print(\"Greetings!\")"
   ]
  },
  {
   "cell_type": "code",
   "execution_count": null,
   "id": "53c7e3a3",
   "metadata": {},
   "outputs": [],
   "source": [
    "9.\n",
    "If your programme is stuck in an endless loop, what keys you’ll press?\n",
    "\n",
    "Ans.\n",
    "If your programme is stuck in an endless loop in jupyter notebook, \n",
    "We can interrupt the kernel by clicking on the “Interrupt the kernel” button in the toolbar. \n",
    "The button looks like a stop sign. \n",
    "Or we can also use the keyboard shortcut of pressing \"I\" twice.\n",
    "We need to \"restart the kernel\" in order to proceed further.\n",
    "\n",
    "We can also use \"Ctrl + C\" "
   ]
  },
  {
   "cell_type": "code",
   "execution_count": null,
   "id": "6a68dae6",
   "metadata": {},
   "outputs": [],
   "source": [
    "10. \n",
    "How can you tell the difference between break and continue?\n",
    "\n",
    "Ans.\n",
    "Break statement is used to break out of the inner most loop of \"for\" or \"while\".\n",
    "Continue statement is used to end the current iteration of the loop and to continue to the next iteration.\n",
    "\n",
    "The main difference being, Break will entirely come out of the loop ending further iterations, \n",
    "but Continue still keeps the loop running by skipping the current iteration."
   ]
  },
  {
   "cell_type": "code",
   "execution_count": null,
   "id": "b4b49ec2",
   "metadata": {},
   "outputs": [],
   "source": [
    "11. \n",
    "In a for loop, what is the difference between range(10), range(0, 10), and range(0, 10, 1)?\n",
    "\n",
    "Ans.\n",
    "All three range(10), range(0, 10), and range(0, 10, 1), result the same, \n",
    "which is iterating through numbers from 0 to 9.\n",
    "the difference being the arguments we pass into the range function,\n",
    "In \n",
    "range(10) : we are passing the stop(10) argument\n",
    "range(0, 10) : we are passing both the start(0) and stop(10) argument\n",
    "range(0, 10, 1) : we are passing start(0), stop(10), step(1) arguments"
   ]
  },
  {
   "cell_type": "code",
   "execution_count": null,
   "id": "63f0210a",
   "metadata": {},
   "outputs": [],
   "source": [
    "12. \n",
    "Write a short program that prints the numbers 1 to 10 using a for loop. Then write an equivalent\n",
    "program that prints the numbers 1 to 10 using a while loop."
   ]
  },
  {
   "cell_type": "code",
   "execution_count": 9,
   "id": "5db6f42f",
   "metadata": {},
   "outputs": [
    {
     "name": "stdout",
     "output_type": "stream",
     "text": [
      "0 1 2 3 4 5 6 7 8 9 10 "
     ]
    }
   ],
   "source": [
    "#Ans.\n",
    "for i in range(11):\n",
    "    print(i, end=\" \")"
   ]
  },
  {
   "cell_type": "code",
   "execution_count": 11,
   "id": "82535754",
   "metadata": {},
   "outputs": [
    {
     "name": "stdout",
     "output_type": "stream",
     "text": [
      "0 1 2 3 4 5 6 7 8 9 10 "
     ]
    }
   ],
   "source": [
    "#Ans.\n",
    "i=0\n",
    "while i<11:\n",
    "    print(i, end=\" \")\n",
    "    i+=1"
   ]
  },
  {
   "cell_type": "code",
   "execution_count": null,
   "id": "3ecf742c",
   "metadata": {},
   "outputs": [],
   "source": [
    "13. \n",
    "If you had a function named bacon() inside a module named spam, how would you call it after\n",
    "importing spam?\n",
    "\n",
    "Ans.\n",
    "We would call the function inside a module using a period(.)\n",
    "Such as,\n",
    "\n",
    "import spam\n",
    "spam.bacon()"
   ]
  }
 ],
 "metadata": {
  "kernelspec": {
   "display_name": "Python 3 (ipykernel)",
   "language": "python",
   "name": "python3"
  },
  "language_info": {
   "codemirror_mode": {
    "name": "ipython",
    "version": 3
   },
   "file_extension": ".py",
   "mimetype": "text/x-python",
   "name": "python",
   "nbconvert_exporter": "python",
   "pygments_lexer": "ipython3",
   "version": "3.11.3"
  }
 },
 "nbformat": 4,
 "nbformat_minor": 5
}
