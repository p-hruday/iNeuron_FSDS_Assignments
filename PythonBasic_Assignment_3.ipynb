{
 "cells": [
  {
   "cell_type": "markdown",
   "id": "2cf8742d",
   "metadata": {},
   "source": [
    "# Python Basic Assignment 3\n"
   ]
  },
  {
   "cell_type": "code",
   "execution_count": null,
   "id": "401426ab",
   "metadata": {},
   "outputs": [],
   "source": [
    "1. \n",
    "Why are functions advantageous to have in your programs?\n",
    "\n",
    "Ans.\n",
    "The advantages of functions are that we can avoid rewriting the same logic or code again and again in a program, \n",
    "and just call the function wherever needed after writing it once in the program, Increasing the code reusability.\n",
    "\n",
    "And when large programs are divided into multiple functions, \n",
    "it helps to easily track the program increasing the modularity of the progam "
   ]
  },
  {
   "cell_type": "code",
   "execution_count": null,
   "id": "2e40edc8",
   "metadata": {},
   "outputs": [],
   "source": [
    "2.\n",
    "When does the code in a function run: when it's specified or when it's called?\n",
    "    \n",
    "Ans.\n",
    "The code in the function will run ony when it is called."
   ]
  },
  {
   "cell_type": "code",
   "execution_count": null,
   "id": "dcfda8b1",
   "metadata": {},
   "outputs": [],
   "source": [
    "3. \n",
    "What statement creates a function?\n",
    "\n",
    "Ans.\n",
    "\"def\" is the keyword used to create a function.\n",
    "Syntax being:\n",
    "def function_name(param_1, param_2,...):\n",
    "        statement_1\n",
    "        statement_2\n",
    "        ...\n",
    "        statement_n\n",
    "        "
   ]
  },
  {
   "cell_type": "code",
   "execution_count": null,
   "id": "ea3636de",
   "metadata": {},
   "outputs": [],
   "source": [
    "4. \n",
    "What is the difference between a function and a function call?\n",
    "\n",
    "Ans.\n",
    "A function can be defined as a peice of code with some logic, \n",
    "which takes in data know as parameters and returns data as a result.\n",
    "\n",
    "A function call means invoking or calling that function to execute."
   ]
  },
  {
   "cell_type": "code",
   "execution_count": null,
   "id": "d019fc5d",
   "metadata": {},
   "outputs": [],
   "source": [
    "5. \n",
    "How many global scopes are there in a Python program? How many local scopes?\n",
    "\n",
    "Ans.\n",
    "There will only be one Global scope in the program, which remains untill the execution of the program ends.\n",
    "Where as Local scopes can be many depending on the number of functions being used."
   ]
  },
  {
   "cell_type": "code",
   "execution_count": null,
   "id": "0a51802a",
   "metadata": {},
   "outputs": [],
   "source": [
    "6. \n",
    "What happens to variables in a local scope when the function call returns?\n",
    "\n",
    "Ans.\n",
    "When the function call returns, the variables in the local scope are destroyed. \n",
    "As they exist only when the function is being executed."
   ]
  },
  {
   "cell_type": "code",
   "execution_count": null,
   "id": "a608b72a",
   "metadata": {},
   "outputs": [],
   "source": [
    "7. \n",
    "What is the concept of a return value? Is it possible to have a return value in an expression?\n",
    "\n",
    "Ans.\n",
    "When a function is called, it performs some action according to the codes logic in the function\n",
    "and return the result when function is called. \n",
    "Yes, it is possible to return value in an expression."
   ]
  },
  {
   "cell_type": "code",
   "execution_count": null,
   "id": "9961a1f4",
   "metadata": {},
   "outputs": [],
   "source": [
    "8. \n",
    "If a function does not have a return statement, what is the return value of a call to that function?\n",
    "\n",
    "Ans.\n",
    "If the function explicitly doesnt not have a return statement, \n",
    "None is returned when the funtion is called."
   ]
  },
  {
   "cell_type": "code",
   "execution_count": null,
   "id": "6ddd859a",
   "metadata": {},
   "outputs": [],
   "source": [
    "9. \n",
    "How do you make a function variable refer to the global variable?\n",
    "\n",
    "Ans.\n",
    "By using the keyword \"global\", we can make a function variable refer to the global variable"
   ]
  },
  {
   "cell_type": "code",
   "execution_count": null,
   "id": "2528e55f",
   "metadata": {},
   "outputs": [],
   "source": [
    "10. \n",
    "What is the data type of None?\n",
    "\n",
    "Ans.\n",
    "None is a data type of its own \"NoneType\"\n",
    "and only None can be of None data type."
   ]
  },
  {
   "cell_type": "code",
   "execution_count": null,
   "id": "954f6d35",
   "metadata": {},
   "outputs": [],
   "source": [
    "11. \n",
    "What does the sentence import areallyourpetsnamederic do?\n",
    "\n",
    "Ans.\n",
    "\"import\" statement will load the given system library or user define library in python program.\n",
    "Here if there is a library named \"areallyourpetsnamederic\" it will be loaded into our program."
   ]
  },
  {
   "cell_type": "code",
   "execution_count": null,
   "id": "6b31a7af",
   "metadata": {},
   "outputs": [],
   "source": [
    "12. \n",
    "If you had a bacon() feature in a spam module, what would you call it after importing spam?\n",
    "\n",
    "Ans:\n",
    "We would call the function inside a module using a period(.)\n",
    "Such as,\n",
    "\n",
    "import spam\n",
    "spam.bacon()"
   ]
  },
  {
   "cell_type": "code",
   "execution_count": null,
   "id": "2accbc89",
   "metadata": {},
   "outputs": [],
   "source": [
    "13. \n",
    "What can you do to save a programme from crashing if it encounters an error?\n",
    "\n",
    "Ans.\n",
    "When a program is crashing, By understanding the error being thrown we can make changes to the code.\n",
    "Or\n",
    "We can use the exception handling technique with try-except block, where the code to be tested will be a part of try block,\n",
    "and in the following except block, error handling will be done."
   ]
  },
  {
   "cell_type": "code",
   "execution_count": null,
   "id": "e2feec65",
   "metadata": {},
   "outputs": [],
   "source": [
    "14. \n",
    "What is the purpose of the try clause? What is the purpose of the except clause?\n",
    "\n",
    "Ans.\n",
    "Code to be tested or erroneous code will be placed inside try block. \n",
    "If error occurs during execution of try block, then remaining try block will be skipped and control passes to except block. \n",
    "Here required actions will be taken. \n",
    "If no error occurs during execution of try block then except block will be skipped and execution of try block will be finished."
   ]
  }
 ],
 "metadata": {
  "kernelspec": {
   "display_name": "Python 3 (ipykernel)",
   "language": "python",
   "name": "python3"
  },
  "language_info": {
   "codemirror_mode": {
    "name": "ipython",
    "version": 3
   },
   "file_extension": ".py",
   "mimetype": "text/x-python",
   "name": "python",
   "nbconvert_exporter": "python",
   "pygments_lexer": "ipython3",
   "version": "3.11.3"
  }
 },
 "nbformat": 4,
 "nbformat_minor": 5
}
