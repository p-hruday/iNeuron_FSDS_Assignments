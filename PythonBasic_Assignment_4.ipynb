{
 "cells": [
  {
   "cell_type": "markdown",
   "id": "1afb3107",
   "metadata": {},
   "source": [
    "# Python Basic Assignment 4\n"
   ]
  },
  {
   "cell_type": "code",
   "execution_count": null,
   "id": "37516693",
   "metadata": {},
   "outputs": [],
   "source": [
    "1. \n",
    "What exactly is []?\n",
    "\n",
    "Ans.\n",
    "Here [] represents am empty list, which can be used as a declaration of list variable for further use."
   ]
  },
  {
   "cell_type": "code",
   "execution_count": null,
   "id": "26f9cfbd",
   "metadata": {},
   "outputs": [],
   "source": [
    "2. \n",
    "In a list of values stored in a variable called spam, how would you assign the value hello as the\n",
    "third value? (Assume [2, 4, 6, 8, 10] are in spam.)\n",
    "\n",
    "Ans.\n",
    "spam=[2,4,6,8,10]\n",
    "spam[2]=\"hello\" \n",
    "#we are selecting the third element using index and updating the value"
   ]
  },
  {
   "cell_type": "code",
   "execution_count": 2,
   "id": "5d724fcc",
   "metadata": {},
   "outputs": [
    {
     "name": "stdout",
     "output_type": "stream",
     "text": [
      "[2, 4, 'hello', 8, 10]\n"
     ]
    }
   ],
   "source": [
    "spam=[2,4,6,8,10]\n",
    "spam[2]=\"hello\"\n",
    "print(spam)"
   ]
  },
  {
   "cell_type": "code",
   "execution_count": null,
   "id": "19d84c09",
   "metadata": {},
   "outputs": [],
   "source": [
    "Let's pretend the spam includes the list ['a', 'b', 'c', 'd'] for the next three queries.\n",
    "\n",
    "3.\n",
    "What is the value of spam[int(int('3' * 2) / 11)]?\n",
    "\n",
    "Ans.\n",
    "int('3'*2) results in 33\n",
    "int(33/11) results in 3\n",
    "hence, spam[3] results in the element with index 3 which is 'd'"
   ]
  },
  {
   "cell_type": "code",
   "execution_count": 3,
   "id": "d9604dac",
   "metadata": {},
   "outputs": [
    {
     "data": {
      "text/plain": [
       "'d'"
      ]
     },
     "execution_count": 3,
     "metadata": {},
     "output_type": "execute_result"
    }
   ],
   "source": [
    "spam=['a', 'b', 'c', 'd']\n",
    "spam[int(int('3' * 2) / 11)]"
   ]
  },
  {
   "cell_type": "code",
   "execution_count": null,
   "id": "460ee6af",
   "metadata": {},
   "outputs": [],
   "source": [
    "4.\n",
    "What is the value of spam[-1]?\n",
    "\n",
    "Ans.\n",
    "According to negative indexing, -1 results in the last element of the list,\n",
    "which is 'd'"
   ]
  },
  {
   "cell_type": "code",
   "execution_count": 4,
   "id": "dab5607b",
   "metadata": {},
   "outputs": [
    {
     "data": {
      "text/plain": [
       "'d'"
      ]
     },
     "execution_count": 4,
     "metadata": {},
     "output_type": "execute_result"
    }
   ],
   "source": [
    "spam[-1]"
   ]
  },
  {
   "cell_type": "code",
   "execution_count": null,
   "id": "6df0114e",
   "metadata": {},
   "outputs": [],
   "source": [
    "5.\n",
    "What is the value of spam[:2]?\n",
    "\n",
    "Ans.\n",
    "It is a slicing operation with starting index being 0 as it is not mentioned and the end index being 2,\n",
    "resulting in the elements with indexs 0 and 1\n",
    "which are\n",
    "['a','b']"
   ]
  },
  {
   "cell_type": "code",
   "execution_count": 5,
   "id": "24729148",
   "metadata": {},
   "outputs": [
    {
     "data": {
      "text/plain": [
       "['a', 'b']"
      ]
     },
     "execution_count": 5,
     "metadata": {},
     "output_type": "execute_result"
    }
   ],
   "source": [
    "spam[:2]"
   ]
  },
  {
   "cell_type": "code",
   "execution_count": null,
   "id": "23d86728",
   "metadata": {},
   "outputs": [],
   "source": [
    "Let's pretend bacon has the list [3.14, 'cat', 11, 'cat', True] for the next three questions.\n",
    "\n",
    "6.\n",
    "What is the value of bacon.index('cat')?\n",
    "\n",
    "Ans.\n",
    "It returns the index value at which the string \"cat\" is.\n",
    "which is 1"
   ]
  },
  {
   "cell_type": "code",
   "execution_count": 6,
   "id": "be6a474a",
   "metadata": {},
   "outputs": [
    {
     "data": {
      "text/plain": [
       "1"
      ]
     },
     "execution_count": 6,
     "metadata": {},
     "output_type": "execute_result"
    }
   ],
   "source": [
    "bacon=[3.14, 'cat', 11, 'cat', True]\n",
    "bacon.index(\"cat\")"
   ]
  },
  {
   "cell_type": "code",
   "execution_count": null,
   "id": "893315eb",
   "metadata": {},
   "outputs": [],
   "source": [
    "7.\n",
    "How does bacon.append(99) change the look of the list value in bacon?\n",
    "\n",
    "Ans.\n",
    "the value 99 is added to the end of the list,\n",
    "rsulting in bacon being\n",
    "[3.14, 'cat', 11, 'cat', True, 99]"
   ]
  },
  {
   "cell_type": "code",
   "execution_count": 7,
   "id": "61bebb48",
   "metadata": {},
   "outputs": [
    {
     "data": {
      "text/plain": [
       "[3.14, 'cat', 11, 'cat', True, 99]"
      ]
     },
     "execution_count": 7,
     "metadata": {},
     "output_type": "execute_result"
    }
   ],
   "source": [
    "bacon.append(99)\n",
    "bacon"
   ]
  },
  {
   "cell_type": "code",
   "execution_count": null,
   "id": "b827bbec",
   "metadata": {},
   "outputs": [],
   "source": [
    "8.\n",
    "How does bacon.remove('cat') change the look of the list in bacon?\n",
    "\n",
    "Ans.\n",
    "the element 'cat' is removed from the list, and the elements after that are moved filling up the empty index.\n",
    "resulting in\n",
    "[3.14, 11, True, 99]"
   ]
  },
  {
   "cell_type": "code",
   "execution_count": 9,
   "id": "4eac28f1",
   "metadata": {},
   "outputs": [
    {
     "data": {
      "text/plain": [
       "[3.14, 11, True, 99]"
      ]
     },
     "execution_count": 9,
     "metadata": {},
     "output_type": "execute_result"
    }
   ],
   "source": [
    "bacon.remove('cat') \n",
    "bacon"
   ]
  },
  {
   "cell_type": "code",
   "execution_count": null,
   "id": "b585570d",
   "metadata": {},
   "outputs": [],
   "source": [
    "9.\n",
    "What are the list concatenation and list replication operators?\n",
    "\n",
    "Ans.\n",
    "the list concatenation operator is +\n",
    "#print(spam+bacon) results in\n",
    "['a', 'b', 'c', 'd', 3.14, 11, True, 99]\n",
    "\n",
    "the list replication operator is *\n",
    "#print(spam*3) results in\n",
    "['a', 'b', 'c', 'd', 'a', 'b', 'c', 'd', 'a', 'b', 'c', 'd']"
   ]
  },
  {
   "cell_type": "code",
   "execution_count": 10,
   "id": "16606799",
   "metadata": {},
   "outputs": [
    {
     "name": "stdout",
     "output_type": "stream",
     "text": [
      "['a', 'b', 'c', 'd', 3.14, 11, True, 99]\n",
      "['a', 'b', 'c', 'd', 'a', 'b', 'c', 'd', 'a', 'b', 'c', 'd']\n"
     ]
    }
   ],
   "source": [
    "print(spam+bacon)\n",
    "print(spam*3)"
   ]
  },
  {
   "cell_type": "code",
   "execution_count": null,
   "id": "a4bc7730",
   "metadata": {},
   "outputs": [],
   "source": [
    "10. \n",
    "What is difference between the list methods append() and insert()?\n",
    "\n",
    "Ans.\n",
    "append() is used to insert an object at the end of the list, \n",
    "taking the object as a parameter\n",
    "\n",
    "insert(index,object) is used to insert an object at the specified index\n",
    "taking the index and obejct as parameters."
   ]
  },
  {
   "cell_type": "code",
   "execution_count": null,
   "id": "c36260e4",
   "metadata": {},
   "outputs": [],
   "source": [
    "11. \n",
    "What are the two methods for removing items from a list?\n",
    "\n",
    "Ans.\n",
    "Methods of removing items from a list,\n",
    "remove() : removes the first occurence of the value, taking the value as parameter\n",
    "pop() : removes the element at the specified index and gets the value of it, taking index as parameter"
   ]
  },
  {
   "cell_type": "code",
   "execution_count": null,
   "id": "90a958c1",
   "metadata": {},
   "outputs": [],
   "source": [
    "12. \n",
    "Describe how list values and string values are identical.\n",
    "\n",
    "Ans.\n",
    "A string is a sequence of characters between single or double quotes.\n",
    "A list is a sequence of items.\n",
    "\n",
    "Both strings and lists have lengths\n",
    "a string's length is the number of characters in the string, a list's length is the number of items in the list.\n",
    "\n",
    "Each character in a string and each item in a list has a specified position called Index."
   ]
  },
  {
   "cell_type": "code",
   "execution_count": null,
   "id": "df035093",
   "metadata": {},
   "outputs": [],
   "source": [
    "13. \n",
    "What's the difference between tuples and lists?\n",
    "\n",
    "Ans.\n",
    "The key difference being,\n",
    "Lists are Mutable, where as Tuples are Immutable.\n",
    "Because of which tuples are more memory efficient than lists,\n",
    "causing the element look up time less in tuple compared to list,"
   ]
  },
  {
   "cell_type": "code",
   "execution_count": null,
   "id": "1c974ae9",
   "metadata": {},
   "outputs": [],
   "source": [
    "14. \n",
    "How do you type a tuple value that only contains the integer 42?\n",
    "\n",
    "Ans.\n",
    "end the value with a comma (,).\n",
    "#tuple_ex=42,"
   ]
  },
  {
   "cell_type": "code",
   "execution_count": 17,
   "id": "8db9d018",
   "metadata": {},
   "outputs": [
    {
     "name": "stdout",
     "output_type": "stream",
     "text": [
      "<class 'tuple'>\n"
     ]
    }
   ],
   "source": [
    "tuple_ex= 42,\n",
    "print(type(tuple_ex))"
   ]
  },
  {
   "cell_type": "code",
   "execution_count": null,
   "id": "77e64c62",
   "metadata": {},
   "outputs": [],
   "source": [
    "15.\n",
    "How do you get a list value's tuple form? How do you get a tuple value's list form?\n",
    "\n",
    "Ans.\n",
    "the function list(), is used to get the list form of tuples\n",
    "the function tuple(), is used to get the tuple form of lists"
   ]
  },
  {
   "cell_type": "code",
   "execution_count": 22,
   "id": "77986fa6",
   "metadata": {},
   "outputs": [
    {
     "name": "stdout",
     "output_type": "stream",
     "text": [
      "<class 'list'>\n",
      "<class 'tuple'>\n"
     ]
    }
   ],
   "source": [
    "example_1= (1,2,3,4,5) #tuple\n",
    "print(type(list(example_1))) # list form\n",
    "\n",
    "example_2= [1,2,3,4,5] #list\n",
    "print(type(tuple(example_2))) #tuple form"
   ]
  },
  {
   "cell_type": "code",
   "execution_count": null,
   "id": "fc1a4864",
   "metadata": {},
   "outputs": [],
   "source": [
    "16.\n",
    "Variables that \"contain\" list values are not necessarily lists themselves. Instead, what do they contain?\n",
    "\n",
    "Ans.\n",
    "They contain the reference to the list values"
   ]
  },
  {
   "cell_type": "code",
   "execution_count": null,
   "id": "8ebf58df",
   "metadata": {},
   "outputs": [],
   "source": [
    "17.\n",
    "How do you distinguish between copy.copy() and copy.deepcopy()?\n",
    "\n",
    "Ans.\n",
    "copy() method will do shallow copy of a list. \n",
    "References the object in original list. \n",
    "If any change in original list then it'll reflect in copy object as well.\n",
    "\n",
    "deepcopy() method will do deep copy of a list. \n",
    "This creates the new object and recursively populates the objects.\n",
    "If any change in original list then it'll not reflect in copy object."
   ]
  }
 ],
 "metadata": {
  "kernelspec": {
   "display_name": "Python 3 (ipykernel)",
   "language": "python",
   "name": "python3"
  },
  "language_info": {
   "codemirror_mode": {
    "name": "ipython",
    "version": 3
   },
   "file_extension": ".py",
   "mimetype": "text/x-python",
   "name": "python",
   "nbconvert_exporter": "python",
   "pygments_lexer": "ipython3",
   "version": "3.11.3"
  }
 },
 "nbformat": 4,
 "nbformat_minor": 5
}
