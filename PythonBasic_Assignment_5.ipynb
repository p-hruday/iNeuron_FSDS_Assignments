{
 "cells": [
  {
   "cell_type": "markdown",
   "id": "2ccc2486",
   "metadata": {},
   "source": [
    "# Python Basic Assignment 5\n"
   ]
  },
  {
   "cell_type": "code",
   "execution_count": null,
   "id": "b19143c8",
   "metadata": {},
   "outputs": [],
   "source": [
    "1. \n",
    "What does an empty dictionary's code look like?\n",
    "\n",
    "Ans.\n",
    "there are two ways to code an empty dictionary\n",
    "empty_dict = {}\n",
    "or\n",
    "empty_dict = dict()"
   ]
  },
  {
   "cell_type": "code",
   "execution_count": 4,
   "id": "35785753",
   "metadata": {},
   "outputs": [
    {
     "name": "stdout",
     "output_type": "stream",
     "text": [
      "{} length 0\n",
      "{} length 0\n"
     ]
    }
   ],
   "source": [
    "empty_dict_1 = {}\n",
    "print(empty_dict_1, 'length' ,len(empty_dict_1))\n",
    "empty_dict_2 = dict()\n",
    "print(empty_dict_2, 'length', len(empty_dict_2))"
   ]
  },
  {
   "cell_type": "code",
   "execution_count": null,
   "id": "1673e6ef",
   "metadata": {},
   "outputs": [],
   "source": [
    "2.\n",
    "What is the value of a dictionary value with the key 'foo' and the value 42?\n",
    "\n",
    "Ans.\n",
    "'foo' is considered to be the key\n",
    "and\n",
    "42 is considered to be the value"
   ]
  },
  {
   "cell_type": "code",
   "execution_count": null,
   "id": "79feda9a",
   "metadata": {},
   "outputs": [],
   "source": [
    "3.\n",
    "What is the most significant distinction between a dictionary and a list?\n",
    "\n",
    "Ans.\n",
    "the significant distinction being,\n",
    "A list refers to a collection of elements seperated by commas.\n",
    "A dictionary refers to a hashed structure of various pairs of keys and values."
   ]
  },
  {
   "cell_type": "code",
   "execution_count": null,
   "id": "96027fb4",
   "metadata": {},
   "outputs": [],
   "source": [
    "4.\n",
    "What happens if you try to access spam['foo'] if spam is {'bar': 100}?\n",
    "\n",
    "Ans.\n",
    "it will return an error as we are trying to access a key which doesnt not exist in the dictionary"
   ]
  },
  {
   "cell_type": "code",
   "execution_count": 7,
   "id": "a804e2e5",
   "metadata": {},
   "outputs": [
    {
     "ename": "KeyError",
     "evalue": "'foo'",
     "output_type": "error",
     "traceback": [
      "\u001b[1;31m---------------------------------------------------------------------------\u001b[0m",
      "\u001b[1;31mKeyError\u001b[0m                                  Traceback (most recent call last)",
      "Cell \u001b[1;32mIn[7], line 2\u001b[0m\n\u001b[0;32m      1\u001b[0m spam\u001b[38;5;241m=\u001b[39m{\u001b[38;5;124m'\u001b[39m\u001b[38;5;124mbar\u001b[39m\u001b[38;5;124m'\u001b[39m:\u001b[38;5;241m100\u001b[39m}\n\u001b[1;32m----> 2\u001b[0m spam[\u001b[38;5;124m'\u001b[39m\u001b[38;5;124mfoo\u001b[39m\u001b[38;5;124m'\u001b[39m]\n",
      "\u001b[1;31mKeyError\u001b[0m: 'foo'"
     ]
    }
   ],
   "source": [
    "spam={'bar':100}\n",
    "spam['foo']"
   ]
  },
  {
   "cell_type": "code",
   "execution_count": null,
   "id": "24fb62e2",
   "metadata": {},
   "outputs": [],
   "source": [
    "5.\n",
    "If a dictionary is stored in spam, what is the difference between the expressions 'cat' in spam and 'cat' in spam.keys()?\n",
    "\n",
    "Ans.\n",
    "when we try to acess 'cat' in the dictionary it returns the value associated with the key 'cat'\n",
    "#spam['cat']\n",
    "whereas spam.keys returns the list of keys present in the dictionary.\n",
    "#spam.keys()"
   ]
  },
  {
   "cell_type": "code",
   "execution_count": 11,
   "id": "8470ff4d",
   "metadata": {},
   "outputs": [
    {
     "name": "stdout",
     "output_type": "stream",
     "text": [
      "value of cat\n"
     ]
    },
    {
     "data": {
      "text/plain": [
       "dict_keys(['bar', 'cat'])"
      ]
     },
     "execution_count": 11,
     "metadata": {},
     "output_type": "execute_result"
    }
   ],
   "source": [
    "spam={'bar':100, 'cat':'value of cat'}\n",
    "print(spam['cat'])\n",
    "spam.keys()"
   ]
  },
  {
   "cell_type": "code",
   "execution_count": null,
   "id": "26bc4e3d",
   "metadata": {},
   "outputs": [],
   "source": [
    "6.\n",
    "If a dictionary is stored in spam, what is the difference between the expressions 'cat' in spam and 'cat' in spam.values()?\n",
    "\n",
    "Ans.\n",
    "when we try to acess 'cat' in the dictionary it returns the value associated with the key 'cat'\n",
    "#spam['cat']\n",
    "whereas spam.values returns the list of values present in the dictionary.\n",
    "#spam.values()"
   ]
  },
  {
   "cell_type": "code",
   "execution_count": 12,
   "id": "03de825a",
   "metadata": {},
   "outputs": [
    {
     "name": "stdout",
     "output_type": "stream",
     "text": [
      "value of cat\n"
     ]
    },
    {
     "data": {
      "text/plain": [
       "dict_values([100, 'value of cat'])"
      ]
     },
     "execution_count": 12,
     "metadata": {},
     "output_type": "execute_result"
    }
   ],
   "source": [
    "spam={'bar':100, 'cat':'value of cat'}\n",
    "print(spam['cat'])\n",
    "spam.values()"
   ]
  },
  {
   "cell_type": "code",
   "execution_count": null,
   "id": "ce5646dd",
   "metadata": {},
   "outputs": [],
   "source": [
    "7.\n",
    "What is a shortcut for the following code?\n",
    "if 'color' not in spam:\n",
    "    spam['color'] = 'black'\n",
    "\n",
    "Ans.\n",
    "if 'color' not in spam:spam['color'] = 'black'"
   ]
  },
  {
   "cell_type": "code",
   "execution_count": 20,
   "id": "32546358",
   "metadata": {},
   "outputs": [
    {
     "name": "stdout",
     "output_type": "stream",
     "text": [
      "{'bar': 100, 'cat': 'value of cat', 'color': 'black'}\n"
     ]
    }
   ],
   "source": [
    "if 'color' not in spam:spam['color'] = 'black'\n",
    "print(spam)"
   ]
  },
  {
   "cell_type": "code",
   "execution_count": 19,
   "id": "b5ddfdc1",
   "metadata": {},
   "outputs": [],
   "source": [
    "8.\n",
    "How do you \"pretty print\" dictionary values using which module and function?\n",
    "\n",
    "Ans.\n",
    "We use 'pprint' module and \n",
    "'pprint' function to \n",
    "\"pretty print\" dictionary values"
   ]
  },
  {
   "cell_type": "code",
   "execution_count": 21,
   "id": "302ca2bd",
   "metadata": {},
   "outputs": [
    {
     "name": "stdout",
     "output_type": "stream",
     "text": [
      "{'bar': 100, 'cat': 'value of cat', 'color': 'black'}\n"
     ]
    }
   ],
   "source": [
    "import pprint\n",
    "pprint.pprint(spam)"
   ]
  }
 ],
 "metadata": {
  "kernelspec": {
   "display_name": "Python 3 (ipykernel)",
   "language": "python",
   "name": "python3"
  },
  "language_info": {
   "codemirror_mode": {
    "name": "ipython",
    "version": 3
   },
   "file_extension": ".py",
   "mimetype": "text/x-python",
   "name": "python",
   "nbconvert_exporter": "python",
   "pygments_lexer": "ipython3",
   "version": "3.11.3"
  }
 },
 "nbformat": 4,
 "nbformat_minor": 5
}
