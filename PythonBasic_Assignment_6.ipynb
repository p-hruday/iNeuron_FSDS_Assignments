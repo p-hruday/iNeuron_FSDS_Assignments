{
 "cells": [
  {
   "cell_type": "markdown",
   "id": "6861d1ca",
   "metadata": {},
   "source": [
    "# Python Basic Assignment 6"
   ]
  },
  {
   "cell_type": "code",
   "execution_count": null,
   "id": "b6c70384",
   "metadata": {},
   "outputs": [],
   "source": [
    "1. \n",
    "What are keywords in python? Using the keyword library, print all the python keywords. \n",
    "\n",
    "Ans.\n",
    "Keywords are the reserved words. \n",
    "We should not use those words as variables or function names or any other identifiers in the program."
   ]
  },
  {
   "cell_type": "code",
   "execution_count": 4,
   "id": "28840654",
   "metadata": {},
   "outputs": [
    {
     "name": "stdout",
     "output_type": "stream",
     "text": [
      "['False', 'None', 'True', 'and', 'as', 'assert', 'async', 'await', 'break', 'class', 'continue', 'def', 'del', 'elif', 'else', 'except', 'finally', 'for', 'from', 'global', 'if', 'import', 'in', 'is', 'lambda', 'nonlocal', 'not', 'or', 'pass', 'raise', 'return', 'try', 'while', 'with', 'yield']\n"
     ]
    }
   ],
   "source": [
    "import keyword as kw\n",
    "print(kw.kwlist)"
   ]
  },
  {
   "cell_type": "code",
   "execution_count": null,
   "id": "fe005d20",
   "metadata": {},
   "outputs": [],
   "source": [
    "2. \n",
    "What are the rules to create variables in python? \n",
    "\n",
    "Ans.\n",
    "Variable names should either start with a character or underscore\n",
    "and they can contain only alpha-numeric characters and underscore and no special characters.\n",
    "Variable names are case sensitive"
   ]
  },
  {
   "cell_type": "code",
   "execution_count": null,
   "id": "5fe0fbfd",
   "metadata": {},
   "outputs": [],
   "source": [
    "3.\n",
    "What are the standards and conventions followed for the nomenclature of variables in \n",
    "python to improve code readability and maintainability? \n",
    "\n",
    "Ans.\n",
    "Instance variable names should be all lower case, and underscore to be used for adding new words to instances variables.\n",
    "Constant variable names must be fully capitalized and underscore to be used for adding new words to Constant variables.\n",
    "Choose descriptive names that convey the purpose or meaning of the variable."
   ]
  },
  {
   "cell_type": "code",
   "execution_count": null,
   "id": "10513249",
   "metadata": {},
   "outputs": [],
   "source": [
    "4. \n",
    "What will happen if a keyword is used as a variable name?\n",
    "\n",
    "Ans.\n",
    "Python interpreter will throw syntax error if keyword is used as variable."
   ]
  },
  {
   "cell_type": "code",
   "execution_count": null,
   "id": "d4b23ef2",
   "metadata": {},
   "outputs": [],
   "source": [
    "5. \n",
    "For what purpose def keyword is used?\n",
    "\n",
    "Ans.\n",
    "def keyword is used to define a function\n",
    "It is placed before a function name that is provided by the user to create a user-defined function.\n",
    "Ex: def function_name(parameters):\n",
    "        #code"
   ]
  },
  {
   "cell_type": "code",
   "execution_count": null,
   "id": "d906d865",
   "metadata": {},
   "outputs": [],
   "source": [
    "6.\n",
    "What is the operation of this special character ‘\\’? \n",
    "\n",
    "Ans.\n",
    "\"\\\" is considered to be an escape character, followed by the character or symbol you want to insert.\n",
    "This nullifies the meaning of symbol and insert the symbol as it is."
   ]
  },
  {
   "cell_type": "code",
   "execution_count": null,
   "id": "ec875ff2",
   "metadata": {},
   "outputs": [],
   "source": [
    "7. \n",
    "Give an example of the following conditions:\n",
    "(i) Homogeneous list\n",
    "(ii) Heterogeneous set\n",
    "(iii) Homogeneous tuple\n",
    "\n",
    "Ans.\n",
    "When all the elements in the collection are of the same data type it is said to be a Homogeneous collection, \n",
    "if not it is said to be Heterogeneous collection.\n",
    "\n",
    "(i) Homogeneous list\n",
    "homo_list=[1,2,3,4] #data type of elements is int\n",
    "\n",
    "(ii) Heterogeneous set\n",
    "hetero_set=(1,3.0,'hi') # elements contain data types of int, float, string\n",
    "\n",
    "(iii) Homogeneous tuple\n",
    "homo_tuple=(7,8,9)##data type of elements is int"
   ]
  },
  {
   "cell_type": "code",
   "execution_count": null,
   "id": "85adba67",
   "metadata": {},
   "outputs": [],
   "source": [
    "8.\n",
    "Explain the mutable and immutable data types with proper explanation & examples. \n",
    "\n",
    "Ans.\n",
    "A data type is said to be Mutable if it can be modified or changed, \n",
    "such as lists, dictionaries, sets.\n",
    "\n",
    "It is said to be Immutable if it cannot be changed or modified, \n",
    "such as tuples, strings, frozen sets."
   ]
  },
  {
   "cell_type": "code",
   "execution_count": 9,
   "id": "8ef8e0cc",
   "metadata": {},
   "outputs": [
    {
     "data": {
      "text/plain": [
       "[1, 2, 'changed', 4]"
      ]
     },
     "execution_count": 9,
     "metadata": {},
     "output_type": "execute_result"
    }
   ],
   "source": [
    "#Lets take an example of list, which is a mutable data type\n",
    "\n",
    "mutable=[1,2,3,4] #type(mutable) -> List\n",
    "mutable[2]='changed' #changing the element in the index 2 \n",
    "mutable # the change has been implemented and the list is modified without any error"
   ]
  },
  {
   "cell_type": "code",
   "execution_count": 10,
   "id": "ff8fbe56",
   "metadata": {},
   "outputs": [
    {
     "ename": "TypeError",
     "evalue": "'tuple' object does not support item assignment",
     "output_type": "error",
     "traceback": [
      "\u001b[1;31m---------------------------------------------------------------------------\u001b[0m",
      "\u001b[1;31mTypeError\u001b[0m                                 Traceback (most recent call last)",
      "Cell \u001b[1;32mIn[10], line 4\u001b[0m\n\u001b[0;32m      1\u001b[0m \u001b[38;5;66;03m#Lets take an example of tuple, which is a immutable data type\u001b[39;00m\n\u001b[0;32m      3\u001b[0m immutable\u001b[38;5;241m=\u001b[39m(\u001b[38;5;241m1\u001b[39m,\u001b[38;5;241m2\u001b[39m,\u001b[38;5;241m3\u001b[39m,\u001b[38;5;241m4\u001b[39m)\u001b[38;5;66;03m#type(mutable) -> tuple\u001b[39;00m\n\u001b[1;32m----> 4\u001b[0m immutable[\u001b[38;5;241m2\u001b[39m]\u001b[38;5;241m=\u001b[39m\u001b[38;5;124m'\u001b[39m\u001b[38;5;124mchanged\u001b[39m\u001b[38;5;124m'\u001b[39m\n\u001b[0;32m      5\u001b[0m immutable\n",
      "\u001b[1;31mTypeError\u001b[0m: 'tuple' object does not support item assignment"
     ]
    }
   ],
   "source": [
    "#Lets take an example of tuple, which is a immutable data type\n",
    "\n",
    "immutable=(1,2,3,4)#type(mutable) -> tuple\n",
    "immutable[2]='changed'\n",
    "immutable #results in error as its not allowed to change and does not support item assignment"
   ]
  },
  {
   "cell_type": "code",
   "execution_count": null,
   "id": "504f501c",
   "metadata": {},
   "outputs": [],
   "source": [
    "Q.9. Write a code to create the given structure using only for loop.\n",
    "    *\n",
    "   ***\n",
    "  *****\n",
    " *******\n",
    "*********\n",
    "\n",
    "Ans."
   ]
  },
  {
   "cell_type": "code",
   "execution_count": 22,
   "id": "bfab20f4",
   "metadata": {},
   "outputs": [
    {
     "name": "stdout",
     "output_type": "stream",
     "text": [
      "    *\n",
      "   ***\n",
      "  *****\n",
      " *******\n",
      "*********\n"
     ]
    }
   ],
   "source": [
    "number_of_rows=5\n",
    "for i in range(number_of_rows):\n",
    "    for j in range(number_of_rows-i-1):\n",
    "        print(\" \", end='')\n",
    "    for j in range(2*i+1):\n",
    "        print(\"*\", end='')\n",
    "    print()"
   ]
  },
  {
   "cell_type": "code",
   "execution_count": null,
   "id": "3fcac7c9",
   "metadata": {},
   "outputs": [],
   "source": [
    "10. \n",
    "Write a code to create the given structure using while loop.\n",
    "|||||||||\n",
    " |||||||\n",
    "  |||||\n",
    "   |||\n",
    "    |\n",
    "Ans."
   ]
  },
  {
   "cell_type": "code",
   "execution_count": 36,
   "id": "36fbc0ad",
   "metadata": {},
   "outputs": [
    {
     "name": "stdout",
     "output_type": "stream",
     "text": [
      "|||||||||\n",
      " |||||||\n",
      "  |||||\n",
      "   |||\n",
      "    |\n"
     ]
    }
   ],
   "source": [
    "number_of_rows=5\n",
    "for i in range(number_of_rows):\n",
    "    for j in range(i):\n",
    "        print(' ', end=\"\")\n",
    "    for j in range(number_of_rows*2-1):\n",
    "        print(\"|\",end=\"\")\n",
    "    number_of_rows-=1\n",
    "    print()"
   ]
  }
 ],
 "metadata": {
  "kernelspec": {
   "display_name": "Python 3 (ipykernel)",
   "language": "python",
   "name": "python3"
  },
  "language_info": {
   "codemirror_mode": {
    "name": "ipython",
    "version": 3
   },
   "file_extension": ".py",
   "mimetype": "text/x-python",
   "name": "python",
   "nbconvert_exporter": "python",
   "pygments_lexer": "ipython3",
   "version": "3.11.3"
  }
 },
 "nbformat": 4,
 "nbformat_minor": 5
}
