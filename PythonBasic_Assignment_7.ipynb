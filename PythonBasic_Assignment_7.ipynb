{
 "cells": [
  {
   "cell_type": "markdown",
   "id": "fb2f3abf",
   "metadata": {},
   "source": [
    "# Python Basic Assignment 7"
   ]
  },
  {
   "cell_type": "code",
   "execution_count": null,
   "id": "f87278eb",
   "metadata": {},
   "outputs": [],
   "source": [
    "1.\n",
    "Create two int type variables, apply addition, subtraction, division and multiplications \n",
    "and store the results in variables. Then print the data in the following format by calling the \n",
    "variables: \n",
    "    \n",
    "First variable is __ & second variable is __. \n",
    "Addition: __ + __ = __ \n",
    "Subtraction: __ - __ = __ \n",
    "Multiplication: __ * __ = __ \n",
    "Division: __ / __ = __ \n",
    "    \n",
    "Ans."
   ]
  },
  {
   "cell_type": "code",
   "execution_count": 2,
   "id": "6db11e96",
   "metadata": {},
   "outputs": [
    {
     "name": "stdout",
     "output_type": "stream",
     "text": [
      "First variable is 5 & second variable is 3.\n",
      "Addition: 5 + 3 =  8\n",
      "Subtraction: 5 - 3 =  2\n",
      "Multiplication: 5 * 3 =  15\n",
      "Division: 5 / 3 =  1.6666666666666667\n"
     ]
    }
   ],
   "source": [
    "num_a = 5\n",
    "num_b = 3\n",
    "\n",
    "print(f\"First variable is {num_a} & second variable is {num_b}.\")\n",
    "print(f\"Addition: {num_a} + {num_b} = \", num_a + num_b)\n",
    "print(f\"Subtraction: {num_a} - {num_b} = \", num_a - num_b)\n",
    "print(f\"Multiplication: {num_a} * {num_b} = \", num_a * num_b)\n",
    "print(f\"Division: {num_a} / {num_b} = \", num_a / num_b)\n"
   ]
  },
  {
   "cell_type": "code",
   "execution_count": null,
   "id": "50bc891c",
   "metadata": {},
   "outputs": [],
   "source": [
    "2. \n",
    "What is the difference between the following operators: \n",
    "(i)  ‘/’ & ‘//’ \n",
    "(ii)  ‘**’ & ‘^’ \n",
    "\n",
    "Ans.\n",
    "(i)  ‘/’ & ‘//’ \n",
    "'/' is the division operator that returns the quotient \n",
    "The result is always in floating point data type\n",
    "#18/5 --> 3.6\n",
    "\n",
    "'//' is the floor division operator which returns the quotient \n",
    "The result is always integer data tyoe\n",
    "#18//5 --> 3\n",
    "\n",
    "(ii)  ‘**’ & ‘^’ \n",
    "'**' is the power operator. \n",
    "x**y transforms and gives the result of x to the power of y\n",
    "#2 ** 3 --> 2 to the power of 3 --> 8\n",
    "\n",
    "'^' is the Bit-wise XOR operator. \n",
    "which operates on the binary level of the values given\n",
    "#12 ^ 5 --> 1100 ^ 0101 --> 1001 --> 9\n"
   ]
  },
  {
   "cell_type": "code",
   "execution_count": 7,
   "id": "b113f4c1",
   "metadata": {},
   "outputs": [
    {
     "name": "stdout",
     "output_type": "stream",
     "text": [
      "3.6\n",
      "3\n",
      "8\n",
      "9\n"
     ]
    }
   ],
   "source": [
    "print(18/5)\n",
    "print(18//5)\n",
    "\n",
    "print(2**3)\n",
    "print(12^5)"
   ]
  },
  {
   "cell_type": "code",
   "execution_count": null,
   "id": "ae489492",
   "metadata": {},
   "outputs": [],
   "source": [
    "3. \n",
    "List the logical operators.\n",
    "\n",
    "Ans.\n",
    "Logical operators in python are,\n",
    "'and', 'or', 'not' \n",
    "\n",
    "Truth table of \"and\" operator:\n",
    "True and True : True\n",
    "True and False : False\n",
    "False and True : False\n",
    "False and False : False\n",
    "\n",
    "Truth table of \"or\" operator:\n",
    "True or True : True\n",
    "True or False : True\n",
    "False or True : True\n",
    "False or False : False\n",
    "\n",
    "Truth table of \"not\" operator:\n",
    "not True : False\n",
    "not False : True"
   ]
  },
  {
   "cell_type": "code",
   "execution_count": null,
   "id": "60487209",
   "metadata": {},
   "outputs": [],
   "source": [
    "4. \n",
    "Explain right shift operator and left shift operator with examples.\n",
    "\n",
    "Ans.\n",
    "Right shift operator: \n",
    "left operands value moved towards right by number of bits specified by right operand. \n",
    "# 11>>2 --> 1011>>2 --> right shift by 2 places --> 0010 --> 2\n",
    "It can also be formulated as \n",
    "left_operand//(2**right_operand)\n",
    "\n",
    "\n",
    "Left shift operator: \n",
    "left operands value moved towards left by number of bits specified by right operand. \n",
    "# 11<<2 --> 1011<<2 --> left shift by 2 places --> 101100 --> 44\n",
    "It can also be formulated as \n",
    "left_operand*(2**right_operand)"
   ]
  },
  {
   "cell_type": "code",
   "execution_count": null,
   "id": "6caa414f",
   "metadata": {},
   "outputs": [],
   "source": [
    "5. \n",
    "Create a list containing int type data of length 15. Then write a code to check if 10 is \n",
    "present in the list or not.\n",
    "\n",
    "Ans."
   ]
  },
  {
   "cell_type": "code",
   "execution_count": 20,
   "id": "54d83109",
   "metadata": {},
   "outputs": [
    {
     "name": "stdout",
     "output_type": "stream",
     "text": [
      "length of num_list 15\n",
      "10 is NOT present in the list\n"
     ]
    }
   ],
   "source": [
    "num_list = [1,20,30,40,50,11,21,31,41,51,15,42,16,89,78]\n",
    "print(f\"length of num_list {len(num_list)}\")\n",
    "\n",
    "if 10 in num_list:\n",
    "    print(\"10 is present in the list\")\n",
    "else:\n",
    "    print(\"10 is NOT present in the list\")"
   ]
  },
  {
   "cell_type": "code",
   "execution_count": null,
   "id": "2998c534",
   "metadata": {},
   "outputs": [],
   "source": []
  }
 ],
 "metadata": {
  "kernelspec": {
   "display_name": "Python 3 (ipykernel)",
   "language": "python",
   "name": "python3"
  },
  "language_info": {
   "codemirror_mode": {
    "name": "ipython",
    "version": 3
   },
   "file_extension": ".py",
   "mimetype": "text/x-python",
   "name": "python",
   "nbconvert_exporter": "python",
   "pygments_lexer": "ipython3",
   "version": "3.11.3"
  }
 },
 "nbformat": 4,
 "nbformat_minor": 5
}
